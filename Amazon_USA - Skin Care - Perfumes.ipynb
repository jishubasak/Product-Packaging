{
 "cells": [
  {
   "cell_type": "markdown",
   "metadata": {},
   "source": [
    "## Scraper : Amazon Perfume - USA\n"
   ]
  },
  {
   "cell_type": "code",
   "execution_count": 22,
   "metadata": {
    "ExecuteTime": {
     "end_time": "2020-11-25T06:49:33.418139Z",
     "start_time": "2020-11-25T06:49:33.389010Z"
    }
   },
   "outputs": [],
   "source": [
    "import requests\n",
    "from bs4 import BeautifulSoup\n",
    "import csv\n",
    "import re\n",
    "import json\n",
    "import sqlite3\n",
    "import pandas as pd\n",
    "import numpy as np\n",
    "import matplotlib.pyplot as plt\n",
    "import seaborn as sns\n",
    "from time import sleep\n",
    "import os\n",
    "from collections import Counter\n",
    "import pickle\n",
    "import warnings\n",
    "import time\n",
    "warnings.filterwarnings(\"ignore\")\n",
    "\n",
    "from wordcloud import WordCloud\n",
    "import matplotlib.pyplot as plt\n",
    "import PIL\n",
    "from PIL import Image, ImageFilter\n",
    "from selenium import webdriver\n",
    "from selenium.webdriver.common.action_chains import ActionChains\n",
    "from selenium.webdriver.chrome.options import Options\n",
    "from selenium.common.exceptions import NoSuchElementException\n",
    "\n",
    "from utils import (hover, browser, scroll_temp, scroll, browser_link, indexes,\n",
    "                   products_links, delete_images, upload_s3, product_info,\n",
    "                   database, checkpoint)\n",
    "\n",
    "import boto3\n",
    "import botocore\n",
    "%matplotlib inline\n",
    "\n",
    "# Use proxy and headers for safe web scraping\n",
    "# os.environ['HTTPS_PROXY'] = 'http://3.112.188.39:8080'\n",
    "\n",
    "# pd.options.mode.chained_assignment = None\n",
    "headers = {\n",
    "    'user-agent': 'Mozilla/5.0 (Windows NT 10.0; Win64; x64) AppleWebKit/'\n",
    "                  '537.36 (KHTML, like Gecko) Chrome/75.0.3770.100 '\n",
    "                  'Safari/537.36'\n",
    "}"
   ]
  },
  {
   "cell_type": "code",
   "execution_count": 23,
   "metadata": {
    "ExecuteTime": {
     "end_time": "2020-11-25T06:49:33.921146Z",
     "start_time": "2020-11-25T06:49:33.915631Z"
    }
   },
   "outputs": [],
   "source": [
    "countries_link = {'USA':'https://www.amazon.com',\n",
    "                  'Australia':'https://www.amazon.com.au',\n",
    "                  'UK':'https://www.amazon.co.uk',\n",
    "                  'India':'https://www.amazon.in',\n",
    "                  'Japan':'https://www.amazon.co.jp/',\n",
    "                  'UAE':'https://amazon.ae'}"
   ]
  },
  {
   "cell_type": "markdown",
   "metadata": {},
   "source": [
    "##### List of Products"
   ]
  },
  {
   "cell_type": "code",
   "execution_count": 24,
   "metadata": {
    "ExecuteTime": {
     "end_time": "2020-11-25T06:49:43.645934Z",
     "start_time": "2020-11-25T06:49:43.626955Z"
    }
   },
   "outputs": [],
   "source": [
    "amazon_usa = {\n",
    "    \"health_and_beauty\": {\n",
    "        \"hair_products\": {\n",
    "            \"shampoo\": \"https://www.amazon.com/s?i=beauty-intl-ship&bbn=16225006011&rh=n%3A%2116225006011%2Cn%3A11057241%2Cn%3A17911764011%2Cn%3A11057651&dc&\",\n",
    "            \"conditioner\": \"https://www.amazon.com/s?i=beauty-intl-ship&bbn=16225006011&rh=n%3A%2116225006011%2Cn%3A11057241%2Cn%3A17911764011%2Cn%3A11057251&dc&\",\n",
    "            \"hair_scalp_treatment\": \"https://www.amazon.com/s?i=beauty-intl-ship&bbn=16225006011&rh=n%3A%2116225006011%2Cn%3A11057241%2Cn%3A11057431&dc&\",\n",
    "            \"treatment_oil\": \"https://www.amazon.com/s?i=beauty-intl-ship&bbn=16225006011&rh=n%3A%2116225006011%2Cn%3A11057241%2Cn%3A10666439011&dc&\",\n",
    "            \"hair_loss\": \"https://www.amazon.com/s?i=beauty-intl-ship&bbn=16225006011&rh=n%3A%2116225006011%2Cn%3A11057241%2Cn%3A10898755011&dc&\"\n",
    "        },\n",
    "        \"skin_care\": {\n",
    "            \"body\": {\n",
    "                \"cleansers\": \"https://www.amazon.com/s?i=beauty-intl-ship&bbn=16225006011&rh=n%3A%2116225006011%2Cn%3A11060451%2Cn%3A11060521%2Cn%3A11056281&dc&\",\n",
    "                \"moisturizers\": \"https://www.amazon.com/s?i=beauty-intl-ship&bbn=16225006011&rh=n%3A%2116225006011%2Cn%3A11060451%2Cn%3A11060521%2Cn%3A11060661&dc&\",\n",
    "                \"treatments\": \"https://www.amazon.com/s?i=beauty-intl-ship&bbn=16225006011&rh=n%3A%2116225006011%2Cn%3A11060451%2Cn%3A11060521%2Cn%3A11056421&dc&\"\n",
    "            },\n",
    "            \"eyes\": {\n",
    "                \"creams\": \"https://www.amazon.com/s?i=beauty-intl-ship&bbn=16225006011&rh=n%3A%2116225006011%2Cn%3A11060451%2Cn%3A11061941%2Cn%3A7730090011&dc&\",\n",
    "                \"gels\": \"https://www.amazon.com/s?i=beauty-intl-ship&bbn=16225006011&rh=n%3A%2116225006011%2Cn%3A11060451%2Cn%3A11061941%2Cn%3A7730092011&dc&\",\n",
    "                \"serums\": \"https://www.amazon.com/s?i=beauty-intl-ship&bbn=16225006011&rh=n%3A%2116225006011%2Cn%3A11060451%2Cn%3A11061941%2Cn%3A7730098011&dc&\"\n",
    "            },\n",
    "            \"face\": {\n",
    "                \"f_cleansers\": \"https://www.amazon.com/s?i=beauty-intl-ship&bbn=16225006011&rh=n%3A%2116225006011%2Cn%3A11060451%2Cn%3A11060711%2Cn%3A11060901&dc&\",\n",
    "                \"f_moisturizers\": \"https://www.amazon.com/s?i=beauty-intl-ship&bbn=16225006011&rh=n%3A%2116225006011%2Cn%3A11060451%2Cn%3A11060711%2Cn%3A11060901&dc&\",\n",
    "                \"scrubs\": \"https://www.amazon.com/s?i=beauty-intl-ship&bbn=16225006011&rh=n%3A%2116225006011%2Cn%3A11060451%2Cn%3A11060711%2Cn%3A11061091&dc&\",\n",
    "                \"toners\": \"https://www.amazon.com/s?i=beauty-intl-ship&bbn=16225006011&rh=n%3A%2116225006011%2Cn%3A11060451%2Cn%3A11060711%2Cn%3A11061931&dc&\",\n",
    "                \"f_treatments\": \"https://www.amazon.com/s?i=beauty-intl-ship&bbn=16225006011&rh=n%3A%2116225006011%2Cn%3A11060451%2Cn%3A11060711%2Cn%3A11061931&dc&\"\n",
    "            },\n",
    "            \"lipcare\": \"https://www.amazon.com/s?i=beauty-intl-ship&bbn=16225006011&rh=n%3A%2116225006011%2Cn%3A11060451%2Cn%3A3761351&dc&\",\n",
    "            \"perfumes\": \"https://www.amazon.com/s?i=specialty-aps&bbn=16225006011&rh=n%3A%2116225006011%2Cn%3A11056591&\"\n",
    "        }\n",
    "    },\n",
    "    \"food\": {\n",
    "        \"tea\": {\n",
    "            \"herbal\": \"https://www.amazon.com/s?k=tea&i=grocery&rh=n%3A16310101%2Cn%3A16310231%2Cn%3A16521305011%2Cn%3A16318401%2Cn%3A16318511&dc&\",\n",
    "            \"green\": \"https://www.amazon.com/s?k=tea&i=grocery&rh=n%3A16310101%2Cn%3A16310231%2Cn%3A16521305011%2Cn%3A16318401%2Cn%3A16318471&dc&\",\n",
    "            \"black\": \"https://www.amazon.com/s?k=tea&i=grocery&rh=n%3A16310101%2Cn%3A16310231%2Cn%3A16521305011%2Cn%3A16318401%2Cn%3A16318411&dc&\",\n",
    "            \"chai\": \"https://www.amazon.com/s?k=tea&i=grocery&rh=n%3A16310101%2Cn%3A16310231%2Cn%3A16521305011%2Cn%3A16318401%2Cn%3A348022011&dc&\"\n",
    "        },\n",
    "        \"coffee\": \"https://www.amazon.com/s?k=tea&i=grocery&rh=n%3A16310101%2Cn%3A16310231%2Cn%3A16521305011%2Cn%3A16318031%2Cn%3A2251593011&dc&\",\n",
    "        \"dried_fruits\": {\n",
    "            \"mixed\": \"https://www.amazon.com/s?k=dried+fruits&i=grocery&rh=n%3A16310101%2Cn%3A6506977011%2Cn%3A9865332011%2Cn%3A9865334011%2Cn%3A9865348011&dc&\",\n",
    "            \"mangoes\": \"https://www.amazon.com/s?k=dried+fruits&rh=n%3A16310101%2Cn%3A9865346011&dc&\"\n",
    "        },\n",
    "        \"nuts\": {\n",
    "            \"mixed\": \"https://www.amazon.com/s?k=nuts&rh=n%3A16310101%2Cn%3A16322931&dc&\",\n",
    "            \"peanuts\": \"https://www.amazon.com/s?k=nuts&i=grocery&rh=n%3A16310101%2Cn%3A18787303011%2Cn%3A16310221%2Cn%3A16322881%2Cn%3A16322941&dc&\",\n",
    "            \"cashews\": \"https://www.amazon.com/s?k=nuts&i=grocery&rh=n%3A16310101%2Cn%3A18787303011%2Cn%3A16310221%2Cn%3A16322881%2Cn%3A16322901&dc&\"\n",
    "        }\n",
    "    },\n",
    "    \"supplements\": {\n",
    "        \"sports\": {\n",
    "            \"pre_workout\": \"https://www.amazon.com/s?k=supplements&i=hpc&rh=n%3A3760901%2Cn%3A6973663011%2Cn%3A6973697011&dc&\",\n",
    "            \"protein\": \"https://www.amazon.com/s?k=supplements&i=hpc&rh=n%3A3760901%2Cn%3A6973663011%2Cn%3A6973704011&dc&\",\n",
    "            \"fat_burner\": \"https://www.amazon.com/s?k=supplements&i=hpc&rh=n%3A3760901%2Cn%3A6973663011%2Cn%3A6973679011&dc&\",\n",
    "            \"weight_gainer\": \"https://www.amazon.com/s?k=supplements&i=hpc&rh=n%3A3760901%2Cn%3A6973663011%2Cn%3A6973725011&dc&\"\n",
    "        },\n",
    "        \"vitamins_dietary\": {\n",
    "            \"supplements\": \"https://www.amazon.com/s?k=supplements&i=hpc&rh=n%3A3760901%2Cn%3A3764441%2Cn%3A6939426011&dc&\",\n",
    "            \"multivitamins\": \"https://www.amazon.com/s?k=supplements&i=hpc&rh=n%3A3760901%2Cn%3A3774861&dc&\"\n",
    "        }\n",
    "    },\n",
    "    \"wellness\": {\n",
    "        \"ayurveda\": \"https://www.amazon.com/s?k=supplements&i=hpc&rh=n%3A3760901%2Cn%3A10079996011%2Cn%3A13052911%2Cn%3A13052941&dc&\",\n",
    "        \"essential_oil_set\": \"https://www.amazon.com/s?k=supplements&i=hpc&rh=n%3A3760901%2Cn%3A10079996011%2Cn%3A13052911%2Cn%3A18502613011&dc&\",\n",
    "        \"massage_oil\": \"https://www.amazon.com/s?k=supplements&i=hpc&rh=n%3A3760901%2Cn%3A10079996011%2Cn%3A14442631&dc&\"\n",
    "    },\n",
    "    \"personal_accessories\": {\n",
    "        \"bags\": {\n",
    "            \"women\": {\n",
    "                \"clutches\": \"https://www.amazon.com/s?k=bags&i=fashion-womens-handbags&bbn=15743631&rh=n%3A7141123011%2Cn%3A%217141124011%2Cn%3A7147440011%2Cn%3A15743631%2Cn%3A17037745011&dc&\",\n",
    "                \"crossbody\": \"https://www.amazon.com/s?k=bags&i=fashion-womens-handbags&bbn=15743631&rh=n%3A7141123011%2Cn%3A%217141124011%2Cn%3A7147440011%2Cn%3A15743631%2Cn%3A2475899011&dc&\",\n",
    "                \"fashion\": \"https://www.amazon.com/s?k=bags&i=fashion-womens-handbags&bbn=15743631&rh=n%3A7141123011%2Cn%3A%217141124011%2Cn%3A7147440011%2Cn%3A15743631%2Cn%3A16977745011&dc&\",\n",
    "                \"hobo\": \"https://www.amazon.com/s?k=bags&i=fashion-womens-handbags&bbn=15743631&rh=n%3A7141123011%2Cn%3A%217141124011%2Cn%3A7147440011%2Cn%3A15743631%2Cn%3A16977747011&dc&\"\n",
    "            }\n",
    "        },\n",
    "        \"jewelry\": {\n",
    "            \"anklets\": \"https://www.amazon.com/s?i=fashion-womens-intl-ship&bbn=16225018011&rh=n%3A16225018011%2Cn%3A7192394011%2Cn%3A7454897011&dc&\",\n",
    "            \"bracelets\": \"https://www.amazon.com/s?i=fashion-womens-intl-ship&bbn=16225018011&rh=n%3A16225018011%2Cn%3A7192394011%2Cn%3A7454898011&dc&\",\n",
    "            \"earrings\": \"https://www.amazon.com/s?i=fashion-womens-intl-ship&bbn=16225018011&rh=n%3A16225018011%2Cn%3A7192394011%2Cn%3A7454917011&dc&\",\n",
    "            \"necklaces\": \"https://www.amazon.com/s?i=fashion-womens-intl-ship&bbn=16225018011&rh=n%3A16225018011%2Cn%3A7192394011%2Cn%3A7454917011&dc&\",\n",
    "            \"rings\": \"https://www.amazon.com/s?i=fashion-womens-intl-ship&bbn=16225018011&rh=n%3A16225018011%2Cn%3A7192394011%2Cn%3A7454939011&dc&\"\n",
    "        },\n",
    "        \"artisan_fabrics\": \"https://www.amazon.com/s?k=fabrics&rh=n%3A2617941011%2Cn%3A12899121&dc&\"\n",
    "    }\n",
    "}\n",
    "amazon_uk = {\n",
    "    \"health_and_beauty\": {\n",
    "        \"hair_products\": {\n",
    "            \"shampoo\": \"https://www.amazon.co.uk/b/ref=amb_link_5?ie=UTF8&node=74094031&pf_rd_m=A3P5ROKL5A1OLE&pf_rd_s=merchandised-search-leftnav&pf_rd_r=KF9SM53J2HXHP4EJD3AH&pf_rd_r=KF9SM53J2HXHP4EJD3AH&pf_rd_t=101&pf_rd_p=aaaa7182-fdd6-4b35-8f0b-993e78880b69&pf_rd_p=aaaa7182-fdd6-4b35-8f0b-993e78880b69&pf_rd_i=66469031\",\n",
    "            \"conditioner\": \"https://www.amazon.co.uk/b/ref=amb_link_6?ie=UTF8&node=2867976031&pf_rd_m=A3P5ROKL5A1OLE&pf_rd_s=merchandised-search-leftnav&pf_rd_r=KF9SM53J2HXHP4EJD3AH&pf_rd_r=KF9SM53J2HXHP4EJD3AH&pf_rd_t=101&pf_rd_p=aaaa7182-fdd6-4b35-8f0b-993e78880b69&pf_rd_p=aaaa7182-fdd6-4b35-8f0b-993e78880b69&pf_rd_i=66469031\",\n",
    "            \"hair_loss\": \"https://www.amazon.co.uk/b/ref=amb_link_11?ie=UTF8&node=2867979031&pf_rd_m=A3P5ROKL5A1OLE&pf_rd_s=merchandised-search-leftnav&pf_rd_r=KF9SM53J2HXHP4EJD3AH&pf_rd_r=KF9SM53J2HXHP4EJD3AH&pf_rd_t=101&pf_rd_p=aaaa7182-fdd6-4b35-8f0b-993e78880b69&pf_rd_p=aaaa7182-fdd6-4b35-8f0b-993e78880b69&pf_rd_i=66469031\",\n",
    "            \"hair_scalp_treatment\": \"https://www.amazon.co.uk/b/ref=amb_link_7?ie=UTF8&node=2867977031&pf_rd_m=A3P5ROKL5A1OLE&pf_rd_s=merchandised-search-leftnav&pf_rd_r=KF9SM53J2HXHP4EJD3AH&pf_rd_r=KF9SM53J2HXHP4EJD3AH&pf_rd_t=101&pf_rd_p=aaaa7182-fdd6-4b35-8f0b-993e78880b69&pf_rd_p=aaaa7182-fdd6-4b35-8f0b-993e78880b69&pf_rd_i=66469031\",\n",
    "            \"treatment_oil\": \"https://www.amazon.co.uk/hair-oil-argan/b/ref=amb_link_8?ie=UTF8&node=2867981031&pf_rd_m=A3P5ROKL5A1OLE&pf_rd_s=merchandised-search-leftnav&pf_rd_r=KF9SM53J2HXHP4EJD3AH&pf_rd_r=KF9SM53J2HXHP4EJD3AH&pf_rd_t=101&pf_rd_p=aaaa7182-fdd6-4b35-8f0b-993e78880b69&pf_rd_p=aaaa7182-fdd6-4b35-8f0b-993e78880b69&pf_rd_i=66469031\"\n",
    "        },\n",
    "        \"skin_care\": {\n",
    "            \"body\": {\n",
    "                \"cleanser\": \"https://www.amazon.co.uk/s/ref=lp_344269031_nr_n_3?fst=as%3Aoff&rh=n%3A117332031%2Cn%3A%21117333031%2Cn%3A118464031%2Cn%3A344269031%2Cn%3A344282031&bbn=344269031&ie=UTF8&qid=1581612722&rnid=344269031\",\n",
    "                \"moisturizers\": \"https://www.amazon.co.uk/s/ref=lp_344269031_nr_n_1?fst=as%3Aoff&rh=n%3A117332031%2Cn%3A%21117333031%2Cn%3A118464031%2Cn%3A344269031%2Cn%3A2805272031&bbn=344269031&ie=UTF8&qid=1581612722&rnid=344269031\"\n",
    "            },\n",
    "            \"eyes\": {\n",
    "                \"creams\": \"https://www.amazon.co.uk/s/ref=lp_118465031_nr_n_0?fst=as%3Aoff&rh=n%3A117332031%2Cn%3A%21117333031%2Cn%3A118464031%2Cn%3A118465031%2Cn%3A344259031&bbn=118465031&ie=UTF8&qid=1581612984&rnid=118465031\",\n",
    "                \"gels\": \"https://www.amazon.co.uk/s/ref=lp_118465031_nr_n_1?fst=as%3Aoff&rh=n%3A117332031%2Cn%3A%21117333031%2Cn%3A118464031%2Cn%3A118465031%2Cn%3A344258031&bbn=118465031&ie=UTF8&qid=1581613044&rnid=118465031\",\n",
    "                \"serums\": \"https://www.amazon.co.uk/s/ref=lp_118465031_nr_n_3?fst=as%3Aoff&rh=n%3A117332031%2Cn%3A%21117333031%2Cn%3A118464031%2Cn%3A118465031%2Cn%3A344257031&bbn=118465031&ie=UTF8&qid=1581613044&rnid=118465031\"\n",
    "            },\n",
    "            \"face\": {\n",
    "                \"cleansers\": \"https://www.amazon.co.uk/s/ref=lp_118466031_nr_n_1?fst=as%3Aoff&rh=n%3A117332031%2Cn%3A%21117333031%2Cn%3A118464031%2Cn%3A118466031%2Cn%3A344265031&bbn=118466031&ie=UTF8&qid=1581613120&rnid=118466031\",\n",
    "                \"moisturizers\": \"https://www.amazon.co.uk/s/ref=lp_118466031_nr_n_3?fst=as%3Aoff&rh=n%3A117332031%2Cn%3A%21117333031%2Cn%3A118464031%2Cn%3A118466031%2Cn%3A2805291031&bbn=118466031&ie=UTF8&qid=1581613120&rnid=118466031\",\n",
    "                \"toners\": \"https://www.amazon.co.uk/s/ref=lp_118466031_nr_n_0?fst=as%3Aoff&rh=n%3A117332031%2Cn%3A%21117333031%2Cn%3A118464031%2Cn%3A118466031%2Cn%3A344267031&bbn=118466031&ie=UTF8&qid=1581613120&rnid=118466031\",\n",
    "                \"treatments\": \"https://www.amazon.co.uk/s?bbn=118466031&rh=n%3A117332031%2Cn%3A%21117333031%2Cn%3A118464031%2Cn%3A118466031%2Cn%3A18918424031&dc&fst=as%3Aoff&qid=1581613120&rnid=118466031&ref=lp_118466031_nr_n_7\"\n",
    "            },\n",
    "            \"lipcare\": \"https://www.amazon.co.uk/s/ref=lp_118464031_nr_n_4?fst=as%3Aoff&rh=n%3A117332031%2Cn%3A%21117333031%2Cn%3A118464031%2Cn%3A118467031&bbn=118464031&ie=UTF8&qid=1581613357&rnid=118464031\"\n",
    "        }\n",
    "    },\n",
    "    \"food\": {\n",
    "        \"tea\": {\n",
    "            \"herbal\": \"https://www.amazon.co.uk/s?k=tea&i=grocery&rh=n%3A340834031%2Cn%3A358584031%2Cn%3A11711401%2Cn%3A406567031&dc&qid=1581613483&rnid=344155031&ref=sr_nr_n_1\",\n",
    "            \"green\": \"https://www.amazon.co.uk/s?k=tea&i=grocery&rh=n%3A340834031%2Cn%3A358584031%2Cn%3A11711401%2Cn%3A406566031&dc&qid=1581613483&rnid=344155031&ref=sr_nr_n_3\",\n",
    "            \"black\": \"https://www.amazon.co.uk/s?k=tea&i=grocery&rh=n%3A340834031%2Cn%3A358584031%2Cn%3A11711401%2Cn%3A406564031&dc&qid=1581613483&rnid=344155031&ref=sr_nr_n_2\"\n",
    "        },\n",
    "        \"coffee\": \"https://www.amazon.co.uk/s?k=coffee&rh=n%3A340834031%2Cn%3A11711391&dc&qid=1581613715&rnid=1642204031&ref=sr_nr_n_2\",\n",
    "        \"dried_fruits\": {\n",
    "            \"mixed\": \"https://www.amazon.co.uk/s?k=dried+fruits&rh=n%3A340834031%2Cn%3A9733163031&dc&qid=1581613770&rnid=1642204031&ref=sr_nr_n_2\"\n",
    "        },\n",
    "        \"nuts\": {\n",
    "            \"mixed\": \"https://www.amazon.co.uk/s?k=mixed&rh=n%3A359964031&ref=nb_sb_noss\",\n",
    "            \"peanuts\": \"https://www.amazon.co.uk/s?k=peanuts&rh=n%3A359964031&ref=nb_sb_noss\",\n",
    "            \"cashews\": \"https://www.amazon.co.uk/s?k=cashew&rh=n%3A359964031&ref=nb_sb_noss\"\n",
    "        }\n",
    "    },\n",
    "    \"supplements\": {\n",
    "        \"sports\": {\n",
    "            \"pre_workout\": \"https://www.amazon.co.uk/b/?node=5977685031&ref_=Oct_s9_apbd_odnav_hd_bw_b35Hc3L_1&pf_rd_r=C5MZHH5TH5F868B6FQWD&pf_rd_p=8086b6c9-ae16-5c3c-a879-030afa4ee08f&pf_rd_s=merchandised-search-11&pf_rd_t=BROWSE&pf_rd_i=2826478031\",\n",
    "            \"protein\": \"https://www.amazon.co.uk/b/?node=2826510031&ref_=Oct_s9_apbd_odnav_hd_bw_b35Hc3L_0&pf_rd_r=C5MZHH5TH5F868B6FQWD&pf_rd_p=8086b6c9-ae16-5c3c-a879-030afa4ee08f&pf_rd_s=merchandised-search-11&pf_rd_t=BROWSE&pf_rd_i=2826478031\",\n",
    "            \"fat_burner\": \"https://www.amazon.co.uk/b/?node=5977737031&ref_=Oct_s9_apbd_odnav_hd_bw_b35Hc3L_2&pf_rd_r=C5MZHH5TH5F868B6FQWD&pf_rd_p=8086b6c9-ae16-5c3c-a879-030afa4ee08f&pf_rd_s=merchandised-search-11&pf_rd_t=BROWSE&pf_rd_i=2826478031\"\n",
    "        },\n",
    "        \"vitamins_dietary\": {\n",
    "            \"supplements\": \"https://www.amazon.co.uk/b/?_encoding=UTF8&node=2826534031&bbn=65801031&ref_=Oct_s9_apbd_odnav_hd_bw_b35Hdc7_2&pf_rd_r=AY01DQVCB4SE7VVE7MTK&pf_rd_p=1ecdbf02-af23-502a-b7ab-9916ddd6690c&pf_rd_s=merchandised-search-11&pf_rd_t=BROWSE&pf_rd_i=2826484031\",\n",
    "            \"multivitamins\": \"https://www.amazon.co.uk/b/?_encoding=UTF8&node=2826506031&bbn=65801031&ref_=Oct_s9_apbd_odnav_hd_bw_b35Hdc7_1&pf_rd_r=AY01DQVCB4SE7VVE7MTK&pf_rd_p=1ecdbf02-af23-502a-b7ab-9916ddd6690c&pf_rd_s=merchandised-search-11&pf_rd_t=BROWSE&pf_rd_i=2826484031\"\n",
    "        }\n",
    "    },\n",
    "    \"wellness\": {\n",
    "        \"massage_oil\": \"https://www.amazon.co.uk/b/?node=3360479031&ref_=Oct_s9_apbd_odnav_hd_bw_b50nmJ_4&pf_rd_r=GYVYF52HT2004EDTY67W&pf_rd_p=3f8e4361-c00b-588b-a07d-ff259bf98bbc&pf_rd_s=merchandised-search-11&pf_rd_t=BROWSE&pf_rd_i=74073031\",\n",
    "        \"ayurveda\": \"https://www.amazon.co.uk/s?k=ayurveda&rh=n%3A65801031%2Cn%3A2826449031&dc&qid=1581686978&rnid=1642204031&ref=sr_nr_n_22\"\n",
    "    },\n",
    "    \"personal_accessories\": {\n",
    "        \"bags\": {\n",
    "            \"women\": {\n",
    "                \"clutches\": \"https://www.amazon.co.uk/b/?node=1769563031&ref_=Oct_s9_apbd_odnav_hd_bw_b1vkt8h_3&pf_rd_r=VC8RX89R4V4JJ5TEBANF&pf_rd_p=cefca17f-8dac-5c80-848f-812aff1bfdd7&pf_rd_s=merchandised-search-11&pf_rd_t=BROWSE&pf_rd_i=1769559031\",\n",
    "                \"crossbody\": \"https://www.amazon.co.uk/b/?node=1769564031&ref_=Oct_s9_apbd_odnav_hd_bw_b1vkt8h_1&pf_rd_r=VC8RX89R4V4JJ5TEBANF&pf_rd_p=cefca17f-8dac-5c80-848f-812aff1bfdd7&pf_rd_s=merchandised-search-11&pf_rd_t=BROWSE&pf_rd_i=1769559031\",\n",
    "                \"fashion\": \"https://www.amazon.co.uk/b/?node=1769560031&ref_=Oct_s9_apbd_odnav_hd_bw_b1vkt8h_5&pf_rd_r=VC8RX89R4V4JJ5TEBANF&pf_rd_p=cefca17f-8dac-5c80-848f-812aff1bfdd7&pf_rd_s=merchandised-search-11&pf_rd_t=BROWSE&pf_rd_i=1769559031\",\n",
    "                \"hobo\": \"https://www.amazon.co.uk/b/?node=1769565031&ref_=Oct_s9_apbd_odnav_hd_bw_b1vkt8h_4&pf_rd_r=VC8RX89R4V4JJ5TEBANF&pf_rd_p=cefca17f-8dac-5c80-848f-812aff1bfdd7&pf_rd_s=merchandised-search-11&pf_rd_t=BROWSE&pf_rd_i=1769559031\"\n",
    "            }\n",
    "        },\n",
    "        \"jewelry\": {\n",
    "            \"anklets\": \"https://www.amazon.co.uk/s/ref=lp_10382835031_nr_n_0?fst=as%3Aoff&rh=n%3A193716031%2Cn%3A%21193717031%2Cn%3A10382835031%2Cn%3A10382860031&bbn=10382835031&ie=UTF8&qid=1581687575&rnid=10382835031\",\n",
    "            \"bracelets\": \"https://www.amazon.co.uk/s/ref=lp_10382835031_nr_n_1?fst=as%3Aoff&rh=n%3A193716031%2Cn%3A%21193717031%2Cn%3A10382835031%2Cn%3A10382861031&bbn=10382835031&ie=UTF8&qid=1581687575&rnid=10382835031\",\n",
    "            \"earrings\": \"https://www.amazon.co.uk/s/ref=lp_10382835031_nr_n_4?fst=as%3Aoff&rh=n%3A193716031%2Cn%3A%21193717031%2Cn%3A10382835031%2Cn%3A10382865031&bbn=10382835031&ie=UTF8&qid=1581687575&rnid=10382835031\",\n",
    "            \"necklaces\": \"https://www.amazon.co.uk/s/ref=lp_10382835031_nr_n_7?fst=as%3Aoff&rh=n%3A193716031%2Cn%3A%21193717031%2Cn%3A10382835031%2Cn%3A10382868031&bbn=10382835031&ie=UTF8&qid=1581687575&rnid=10382835031\",\n",
    "            \"rings\": \"https://www.amazon.co.uk/s/ref=lp_10382835031_nr_n_10?fst=as%3Aoff&rh=n%3A193716031%2Cn%3A%21193717031%2Cn%3A10382835031%2Cn%3A10382871031&bbn=10382835031&ie=UTF8&qid=1581687575&rnid=10382835031\"\n",
    "        },\n",
    "        \"artisan_fabrics\": \"https://www.amazon.co.uk/s?k=fabric&rh=n%3A11052681%2Cn%3A3063518031&dc&qid=1581687726&rnid=1642204031&ref=a9_sc_1\"\n",
    "    }\n",
    "}\n",
    "\n",
    "amazon_aus = {\n",
    "    \"health_and_beauty\": {\n",
    "        \"hair_products\": {\n",
    "            \"shampoo\": \"https://www.amazon.com.au/b/?_encoding=UTF8&node=5150253051&bbn=4851917051&ref_=Oct_s9_apbd_odnav_hd_bw_b5cXATz&pf_rd_r=6SEM7GFDN7CQ2W4KXM9M&pf_rd_p=9dd4b462-1094-5e36-890d-bb1b694c8b53&pf_rd_s=merchandised-search-12&pf_rd_t=BROWSE&pf_rd_i=5150070051\",\n",
    "            \"conditioner\": \"https://www.amazon.com.au/b/?_encoding=UTF8&node=5150226051&bbn=4851917051&ref_=Oct_s9_apbd_odnav_hd_bw_b5cXATz&pf_rd_r=6SEM7GFDN7CQ2W4KXM9M&pf_rd_p=9dd4b462-1094-5e36-890d-bb1b694c8b53&pf_rd_s=merchandised-search-12&pf_rd_t=BROWSE&pf_rd_i=5150070051\"\n",
    "        },\n",
    "        \"skin_care\": [],\n",
    "        \"wellness_product\": []\n",
    "    },\n",
    "    \"food\": {\n",
    "        \"tea\": [],\n",
    "        \"coffee\": [],\n",
    "        \"dried_fruits\": [],\n",
    "        \"nuts\": [],\n",
    "        \"supplements\": []\n",
    "    },\n",
    "    \"personal_accessories\": {\n",
    "        \"bags\": [],\n",
    "        \"jewelry\": [],\n",
    "        \"artisan_fabrics\": []\n",
    "    }\n",
    "}\n",
    "\n",
    "amazon = {\n",
    "    'USA': amazon_usa,\n",
    "    'UK': amazon_uk,\n",
    "    'India': amazon_india,\n",
    "    'Australia': amazon_aus\n",
    "}"
   ]
  },
  {
   "cell_type": "markdown",
   "metadata": {
    "ExecuteTime": {
     "end_time": "2020-03-08T11:40:55.283748Z",
     "start_time": "2020-03-08T11:40:55.082585Z"
    }
   },
   "source": [
    "### Execution"
   ]
  },
  {
   "cell_type": "markdown",
   "metadata": {},
   "source": [
    "#### Getting all the product links\n",
    "If all the product links are scraped and saved in the pickle file already, then don't run the *products_links* function"
   ]
  },
  {
   "cell_type": "code",
   "execution_count": 20,
   "metadata": {
    "ExecuteTime": {
     "end_time": "2020-11-25T06:49:20.700277Z",
     "start_time": "2020-11-25T06:49:20.696040Z"
    },
    "scrolled": true
   },
   "outputs": [],
   "source": [
    "# Initializing the product per Jupyter Notebook\n",
    "country = 'USA'\n",
    "cat1 = 'health_and_beauty'\n",
    "cat2 = 'skin_care'\n",
    "# cat3='None'\n",
    "# cat4 = 'None'\n",
    "product = 'perfumes'\n",
    "# links,directory = products_links(country=country,category=cat1,cat2=cat2,product=product)"
   ]
  },
  {
   "cell_type": "code",
   "execution_count": null,
   "metadata": {
    "ExecuteTime": {
     "end_time": "2020-08-20T07:11:24.416883Z",
     "start_time": "2020-08-20T07:11:24.411898Z"
    }
   },
   "outputs": [],
   "source": [
    "## Saving the scraped Links into a pickle file\n",
    "# main = {'links':links,'directory':directory}\n",
    "# with open('USA_Perfume.pkl', 'wb') as handle:\n",
    "#     pickle.dump(main, handle, protocol=pickle.HIGHEST_PROTOCOL)"
   ]
  },
  {
   "cell_type": "code",
   "execution_count": 7,
   "metadata": {
    "ExecuteTime": {
     "end_time": "2020-08-20T07:27:20.040988Z",
     "start_time": "2020-08-20T07:27:20.032010Z"
    }
   },
   "outputs": [],
   "source": [
    "#loading the pickle file\n",
    "with open('USA_Perfume.pkl', 'rb') as f:\n",
    "    file = pickle.load(f)\n",
    "links = file['links']\n",
    "directory = 'Amazon_USA/health_and_beauty/skin_care/perfumes'"
   ]
  },
  {
   "cell_type": "code",
   "execution_count": 8,
   "metadata": {
    "ExecuteTime": {
     "end_time": "2020-08-20T07:27:22.689460Z",
     "start_time": "2020-08-20T07:27:22.571062Z"
    }
   },
   "outputs": [],
   "source": [
    "# Initializing the checkpoint if the product scraping has already been \n",
    "# initialized in the past\n",
    "# Run before and after an interruption\n",
    "new_links = checkpoint(links, directory, product)"
   ]
  },
  {
   "cell_type": "code",
   "execution_count": null,
   "metadata": {
    "ExecuteTime": {
     "end_time": "2020-08-20T07:19:25.367154Z",
     "start_time": "2020-08-20T07:19:25.362170Z"
    },
    "scrolled": true
   },
   "outputs": [],
   "source": [
    "#replace links with new_links if interruption\n",
    "for link in new_links:\n",
    "    print(link)\n",
    "    data = product_info(link=link,directory=directory,country=country)\n",
    "    conn = sqlite3.connect('{}.db'.format(product))\n",
    "    database(product_data=data,link=link,country=country,\n",
    "             cat1=cat1,cat2=cat2,product=product)"
   ]
  },
  {
   "cell_type": "code",
   "execution_count": null,
   "metadata": {
    "ExecuteTime": {
     "end_time": "2020-08-20T07:19:04.952483Z",
     "start_time": "2020-08-20T07:19:02.326249Z"
    }
   },
   "outputs": [],
   "source": [
    "# Run if there is an interruption\n",
    "new_links = checkpoint(links,directory,product)"
   ]
  }
 ],
 "metadata": {
  "hide_input": false,
  "kernelspec": {
   "display_name": "Python 3",
   "language": "python",
   "name": "python3"
  },
  "language_info": {
   "codemirror_mode": {
    "name": "ipython",
    "version": 3
   },
   "file_extension": ".py",
   "mimetype": "text/x-python",
   "name": "python",
   "nbconvert_exporter": "python",
   "pygments_lexer": "ipython3",
   "version": "3.6.11"
  }
 },
 "nbformat": 4,
 "nbformat_minor": 2
}
